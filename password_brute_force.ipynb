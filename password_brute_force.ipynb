{
 "cells": [
  {
   "cell_type": "code",
   "execution_count": null,
   "metadata": {},
   "outputs": [],
   "source": [
    "import pikepdf\n",
    "password = \"\"\n",
    "\n",
    "for i in range(0, 26):\n",
    "    for j in range(0, 26):\n",
    "        for k in range(0, 26):\n",
    "            for l in range(0, 26):\n",
    "                password += chr(ord('a')+i)\n",
    "                password += chr(ord('a')+j)\n",
    "                password += chr(ord('a')+k)\n",
    "                password += chr(ord('a')+l)\n",
    "\n",
    "                for dates in range(1,32):\n",
    "                    password += \"{0:02d}\".format(dates)\n",
    "                    for months in range(1,13):\n",
    "                        password += \"{0:02d}\".format(months)\n",
    "                        try:\n",
    "                            pikepdf.open(\"varun.pdf\",password = password)\n",
    "                            print(\"FOUND CORRECT PASSWORD\")\n",
    "                            print(password)\n",
    "                            quit()\n",
    "                        except pikepdf._core.PasswordError:\n",
    "                            print(password, \"Incorrect\")\n",
    "                            password = password.removesuffix(\"{0:02d}\".format(months))\n",
    "                            continue\n",
    "                    password = password.removesuffix(\"{0:02d}\".format(dates))\n",
    "                password = password.removesuffix(chr(ord('a')+i))\n",
    "                password = password.removesuffix(chr(ord('a')+l))\n",
    "                password = password.removesuffix(chr(ord('a')+k))\n",
    "                password = password.removesuffix(chr(ord('a')+j))\n",
    "                \n",
    "                \n"
   ]
  },
  {
   "cell_type": "code",
   "execution_count": null,
   "metadata": {},
   "outputs": [],
   "source": []
  }
 ],
 "metadata": {
  "kernelspec": {
   "display_name": "Python 3.10.9 ('base')",
   "language": "python",
   "name": "python3"
  },
  "language_info": {
   "codemirror_mode": {
    "name": "ipython",
    "version": 3
   },
   "file_extension": ".py",
   "mimetype": "text/x-python",
   "name": "python",
   "nbconvert_exporter": "python",
   "pygments_lexer": "ipython3",
   "version": "3.10.9"
  },
  "orig_nbformat": 4,
  "vscode": {
   "interpreter": {
    "hash": "1d386f02532073431f3813f3c140324ecbcfa0ca1cf105f45c7d7e540cdb745e"
   }
  }
 },
 "nbformat": 4,
 "nbformat_minor": 2
}
